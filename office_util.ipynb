{
  "nbformat": 4,
  "nbformat_minor": 0,
  "metadata": {
    "colab": {
      "provenance": []
    },
    "kernelspec": {
      "name": "python3",
      "display_name": "Python 3"
    },
    "language_info": {
      "name": "python"
    }
  },
  "cells": [
    {
      "cell_type": "markdown",
      "source": [
        "Copy files"
      ],
      "metadata": {
        "id": "QoMLsiQFCaht"
      }
    },
    {
      "cell_type": "code",
      "source": [
        "import shutil, os"
      ],
      "metadata": {
        "id": "TfsFWhERCVEF"
      },
      "execution_count": null,
      "outputs": []
    },
    {
      "cell_type": "code",
      "source": [
        "source_path = './src'\n",
        "target_path = './dst'\n",
        "misc_path = './misc'"
      ],
      "metadata": {
        "id": "oShe-IIWCVH6"
      },
      "execution_count": null,
      "outputs": []
    },
    {
      "cell_type": "code",
      "source": [
        "for root, dirs, files in os.walk(source_path):\n",
        "  for file_ in files:\n",
        "    if file_.endswith('.py') or file_.endswith('.ipynb'):\n",
        "      print(os.path.join(target_path, file_))\n",
        "      shutil.copy(os.path.join(root, file_), target_path)\n",
        "    else:\n",
        "      print(os.path.join(misc_path, file_))\n",
        "      shutil.copy(os.path.join(root, file_), misc_path)"
      ],
      "metadata": {
        "id": "sIPyVHJZCVLq"
      },
      "execution_count": null,
      "outputs": []
    },
    {
      "cell_type": "markdown",
      "source": [
        "Zip files"
      ],
      "metadata": {
        "id": "ukk4fDQdEpyx"
      }
    },
    {
      "cell_type": "code",
      "source": [
        "import zipfile, os"
      ],
      "metadata": {
        "id": "F_mGFW5_EorX"
      },
      "execution_count": null,
      "outputs": []
    },
    {
      "cell_type": "code",
      "source": [
        "proj = \"project\"\n",
        "proj_path = './proj'"
      ],
      "metadata": {
        "id": "iOE-jFlNEo2x"
      },
      "execution_count": null,
      "outputs": []
    },
    {
      "cell_type": "code",
      "source": [
        "zf = zipfile.ZipFile(proj + \",zip\",mode = \"w\")\n",
        "for root, dirs, files in os.walk(proj_path):\n",
        "  zf.write(root):\n",
        "  print(root)\n",
        "  for file_ in files:\n",
        "    zf.write(os.path.join(root, file_))\n",
        "zf.close()"
      ],
      "metadata": {
        "id": "TemjNS0AEpBM"
      },
      "execution_count": null,
      "outputs": []
    },
    {
      "cell_type": "markdown",
      "source": [
        "Create folder"
      ],
      "metadata": {
        "id": "ocz7tc_YJSI9"
      }
    },
    {
      "cell_type": "code",
      "source": [
        "output_folder = './output'\n",
        "if not os.path.exists(output_folder):\n",
        "  os.mkdirs(output_folder)\n",
        "else:\n",
        "  print(\"'\" + output_folder + \"' already exists.\")"
      ],
      "metadata": {
        "id": "DRl39meFCVOy"
      },
      "execution_count": null,
      "outputs": []
    },
    {
      "cell_type": "markdown",
      "source": [
        "Read table"
      ],
      "metadata": {
        "id": "F-FFCy9rlzWb"
      }
    },
    {
      "cell_type": "code",
      "source": [
        "df = pd.read_csv(os.path.abspath(folder + file_name))\n",
        "df = pd.read_csv(os.path.join(folder, file_name))\n",
        "\n",
        "df.groupby(cols).size().reset_index()"
      ],
      "metadata": {
        "id": "0bXa-lfwlzkc"
      },
      "execution_count": null,
      "outputs": []
    },
    {
      "cell_type": "markdown",
      "source": [
        "Read XML"
      ],
      "metadata": {
        "id": "cKEOhgokmX55"
      }
    },
    {
      "cell_type": "code",
      "source": [
        "import xmltodic\n",
        "with open('xml_file.xml') as ff:\n",
        "  doc = xmltodict.parse(ff.read())\n",
        "\n",
        "item1 = pd.json_normalize(doc['item1'])"
      ],
      "metadata": {
        "id": "V75gwkAMmaQa"
      },
      "execution_count": null,
      "outputs": []
    },
    {
      "cell_type": "code",
      "source": [
        "od = eval(ordered_list_string)\n",
        "xml_string = xmltodict.unparse(json.loads('{file_name: ' + json.dumps(od) + '}'))\n",
        "with open('output.xml', 'a', encoding = 'utf-16') as f:\n",
        "  f.write(xml_string)"
      ],
      "metadata": {
        "id": "-x4tQ9gl8Ejl"
      },
      "execution_count": null,
      "outputs": []
    },
    {
      "cell_type": "markdown",
      "source": [
        "Time stamp"
      ],
      "metadata": {
        "id": "q1F7_kAoJzeb"
      }
    },
    {
      "cell_type": "code",
      "source": [
        "from datetime import datetime\n",
        "from pytz import timezone"
      ],
      "metadata": {
        "id": "vFtOSPd-LbFp"
      },
      "execution_count": null,
      "outputs": []
    },
    {
      "cell_type": "code",
      "source": [
        "tz = timezone(\"CST6CDT\")\n",
        "run_time = datetime.now(tz).strftime(\"%Y-%m-%d\")\n",
        "output_file_name = \"output\" + str(run_time) + \".txt\""
      ],
      "metadata": {
        "id": "SVhlj407KTUj"
      },
      "execution_count": null,
      "outputs": []
    },
    {
      "cell_type": "markdown",
      "source": [
        "Levenshtein distance"
      ],
      "metadata": {
        "id": "BWg2i77xOq8i"
      }
    },
    {
      "cell_type": "code",
      "source": [
        "from jellyfish import levenshtein_distance\n",
        "score = levenshtein_distance(s1.replace(\" \",\"\"), s2.replace(\" \",\"\"))\n",
        "ratio = 1 - score/max(len(s1), len(s2))"
      ],
      "metadata": {
        "id": "nDwTf9a-O0I6"
      },
      "execution_count": null,
      "outputs": []
    },
    {
      "cell_type": "markdown",
      "source": [
        "Detect knees"
      ],
      "metadata": {
        "id": "HBcRfDOOPQW8"
      }
    },
    {
      "cell_type": "code",
      "source": [
        "from kneed import KneeLocator\n",
        "kl = KneeLocator(x, y, curve = \"convex\", direction = \"decreasing\")"
      ],
      "metadata": {
        "id": "767N4YeNPfOt"
      },
      "execution_count": null,
      "outputs": []
    },
    {
      "cell_type": "markdown",
      "source": [
        "Frequency distribution"
      ],
      "metadata": {
        "id": "A6V1dm5BQsS6"
      }
    },
    {
      "cell_type": "code",
      "source": [
        "from nltk import ngrams, FreqDist\n",
        "fd = FreqDist(txt.split())"
      ],
      "metadata": {
        "id": "rGOd5lgvSH9y"
      },
      "execution_count": null,
      "outputs": []
    },
    {
      "cell_type": "markdown",
      "source": [
        "Check memory"
      ],
      "metadata": {
        "id": "ecYSpgDCdIgF"
      }
    },
    {
      "cell_type": "code",
      "source": [
        "import psutil\n",
        "psutil.virtual_memory()"
      ],
      "metadata": {
        "id": "92_UwyqLdI1q"
      },
      "execution_count": null,
      "outputs": []
    },
    {
      "cell_type": "markdown",
      "source": [
        "Oracle connection"
      ],
      "metadata": {
        "id": "9nhGRGz-Sqk4"
      }
    },
    {
      "cell_type": "code",
      "source": [
        "import pyodbc"
      ],
      "metadata": {
        "id": "CGPIh3jXSvzK"
      },
      "execution_count": null,
      "outputs": []
    },
    {
      "cell_type": "code",
      "source": [
        "driver = \"Oracle in OraClient9Home1\"\n",
        "dbq = \"mydatabase\"\n",
        "uid = \"user\"\n",
        "pwd = \"password\"\n",
        "con = pyodbc.connect('Driver={' + driver + '};DBQ=' + dbq + ';UID=' + uid + ';PWD=' + pwd)\n",
        "query = \"select * from a;\"\n",
        "df = pd.read_sql(query, con)\n",
        "con.close()"
      ],
      "metadata": {
        "id": "CQxb1-bfS0WI"
      },
      "execution_count": null,
      "outputs": []
    },
    {
      "cell_type": "code",
      "source": [
        "from urllib.parse import quote_plus\n",
        "import os\n",
        "# set charset to UTF-8 before loading cx_Oracle module for special characters\n",
        "os.environ[\"NLS_LANG\"] = \"AMERICAN_AMERICA.AL32UTF8\"\n",
        "from sqlalchemy  import types, create_engine\n",
        "import cx_Oracle\n",
        "engine = create_engine(\"oracle+cx_oracle://\" + uid + \":\" + quote_plus(pwd) + \"@\" + dbq)\n",
        "mydtype = {c:types.VARCHAR(df[c].str.len().max()) for c in df.columns[df.dtypes == 'object'].tolist()}\n",
        "df.to_sql(\"MY_TABLE\", con = engine, if_exists = \"replace\", index = False, dtype = mydtype)\n",
        "\n",
        "con = engine.connect()\n",
        "data = con.execute(\"SELECT * FROM A\")\n",
        "con.close()"
      ],
      "metadata": {
        "id": "vgi1W7q51lXJ"
      },
      "execution_count": null,
      "outputs": []
    },
    {
      "cell_type": "markdown",
      "source": [
        "SQL Server -> Oracle\n",
        "\n",
        "LEFT, RIGHT -> SUBSTR\n",
        "\n",
        "DROP ->\n",
        "\n",
        "EXECUTE IMMEDIATE 'DROP TABLE ' || 'A';\n",
        "\n",
        "EXCEPTION\n",
        "\n",
        "WHEN OTHERS THEN\n",
        "\n",
        "IF SQLCODE != -942 THEN\n",
        "\n",
        "RAISE;\n",
        "\n",
        "END IF;\n",
        "\n",
        "END;\n",
        "\n",
        "SELECT * INTO A FROM B -> CREATE TABLE A AS SELECT * FROM B"
      ],
      "metadata": {
        "id": "3gaCe-sNgixA"
      }
    },
    {
      "cell_type": "markdown",
      "source": [
        "SQL Server three-valued logic\n",
        "\n",
        "TRUE AND NULL = NULL\n",
        "\n",
        "FALSE AND NULL = FALSE\n",
        "\n",
        "TRUE OR NULL = TRUE\n",
        "\n",
        "FALSE OR NULL = NULL"
      ],
      "metadata": {
        "id": "F-Jkojtq5nbt"
      }
    },
    {
      "cell_type": "markdown",
      "source": [
        "Table"
      ],
      "metadata": {
        "id": "QbibMAjj6Le-"
      }
    },
    {
      "cell_type": "code",
      "source": [
        "df[cols].groupby(col).sum().reset_index()"
      ],
      "metadata": {
        "id": "T5f4RiuRgi_I"
      },
      "execution_count": null,
      "outputs": []
    },
    {
      "cell_type": "code",
      "source": [
        "df.drop_duplicates(subset = cols)"
      ],
      "metadata": {
        "id": "otqOOcoWGFZf"
      },
      "execution_count": null,
      "outputs": []
    },
    {
      "cell_type": "markdown",
      "source": [
        "Excel"
      ],
      "metadata": {
        "id": "djuMhEWb7Nyw"
      }
    },
    {
      "cell_type": "code",
      "source": [
        "import xlsxwriter\n",
        "\n",
        "with pd.ExcelWriter(file_name) as writer:\n",
        "  wb = writer.book\n",
        "  fmt_textwrap = wb.add_format({'text_wrap': True})\n",
        "  fmt_numfmt = wb.add_format({'num_format': '#,##0'})\n",
        "  fmt_bold = wb.add_format({'bold': True})\n",
        "  fmt_header = wb.add_format({'bold': True, 'fg_color': '#D7E4BC', 'border': 1})\n",
        "  fmt_border = wb.add_format({'top': 1, 'bottom': 1, 'left': 1, 'right': 1})\n",
        "\n",
        "  df.to_excel(writer, sheet_name = 'Data', index = False)\n",
        "  writer.sheets['Data'].set_column(0, 0, 20, fmt_bold)\n",
        "  writer.sheets['Data'].set_column(1, 1, 50, fmt_textwrap)\n",
        "  writer.sheets['Data'].set_column('B:H', 50, fmt_numfmt)\n",
        "  writer.sheets['Data'].conditional_format(xlsxwriter.utility.xl_range(0, 0, df.shape[0], df.shape[1]-1),\n",
        "                                           {'format': fmt_border, 'type': 'no_errors'})\n",
        "  for col, val in enumerate(df.columns.values):\n",
        "    writer.sheets['Data'].write(0, col, val, fmt_header)\n",
        "\n",
        "  writer.sheets['Data'].write(60, 0, \"Footnote: ***\")"
      ],
      "metadata": {
        "id": "GsAUe0pi7PNY"
      },
      "execution_count": null,
      "outputs": []
    },
    {
      "cell_type": "code",
      "source": [
        "from openpyxl import load_workbook, Workbook\n",
        "from openpyxl.chart import Reference, LineChart\n",
        "from openpyxl.utils.dataframe import dataframe_to_rows\n",
        "\n",
        "wb = load_workbook(file_name)\n",
        "ws = wb['Data']\n",
        "data = Reference(ws, range_string = \"'Data!A2:H10\")\n",
        "category = Reference(ws, range_string = \"'Data!B1:H1\")\n",
        "fig = LineChart()\n",
        "fig.add_data(data,  titles_from_data = True)\n",
        "fig.set_categories(category)\n",
        "fig.title = fig_title\n",
        "fig.x_axis.title = x_lab\n",
        "fig.y_axis.title = y_lab\n",
        "fig.width = 30\n",
        "fig.height = 20\n",
        "ws.add_chart(fig, 'A12')\n",
        "wb.save(file_name)\n",
        "wb.close()\n"
      ],
      "metadata": {
        "id": "H5W05eAxvFQ6"
      },
      "execution_count": null,
      "outputs": []
    }
  ]
}